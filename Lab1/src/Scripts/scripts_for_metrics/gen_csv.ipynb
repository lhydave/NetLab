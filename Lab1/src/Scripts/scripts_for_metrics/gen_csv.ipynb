{
 "cells": [
  {
   "cell_type": "code",
   "execution_count": 9,
   "metadata": {},
   "outputs": [],
   "source": [
    "#hyperparameters\n",
    "LINES=75\n",
    "FILES=40\n",
    "OUTPUT_FOLDER='output_3_metrics'\n",
    "\n",
    "import os\n",
    "if os.path.exists(OUTPUT_FOLDER)==False:\n",
    "    os.mkdir(OUTPUT_FOLDER)\n",
    "\n",
    "import pandas as pd\n",
    "for i in range(1,FILES+1):\n",
    "    timestamp=[]\n",
    "    blur=[]\n",
    "    freeze=[]\n",
    "    noise=[]    \n",
    "    with open('BlurOutput/test'+str(i)+'.txt','r') as blur_in:\n",
    "        with open('FreezeOutput/test'+str(i)+'.txt','r') as freeze_in:\n",
    "            with open('NoiseOutput/test'+str(i)+'.txt','r') as noise_in:\n",
    "                assert blur_in.readline()=='blur:\\n'\n",
    "                assert freeze_in.readline()=='freeze:\\n'\n",
    "                assert noise_in.readline()=='noise:\\n'\n",
    "                for j in range(LINES):\n",
    "                    timestamp.append(j)\n",
    "                    blur.append(float(blur_in.readline().strip('\\n')))\n",
    "                    freeze.append(int(freeze_in.readline().strip('\\n')))\n",
    "                    noise.append(float(noise_in.readline().strip('\\n')))\n",
    "    df=pd.DataFrame(data={'timestamp':timestamp,\n",
    "                         'blur':blur,\n",
    "                         'freeze':freeze,\n",
    "                         'noise':noise})\n",
    "    df.to_csv(OUTPUT_FOLDER+'/test'+str(i)+'_video.csv',index=False)"
   ]
  }
 ],
 "metadata": {
  "kernelspec": {
   "display_name": "Python 3",
   "language": "python",
   "name": "python3"
  },
  "language_info": {
   "codemirror_mode": {
    "name": "ipython",
    "version": 3
   },
   "file_extension": ".py",
   "mimetype": "text/x-python",
   "name": "python",
   "nbconvert_exporter": "python",
   "pygments_lexer": "ipython3",
   "version": "3.7.3"
  }
 },
 "nbformat": 4,
 "nbformat_minor": 2
}
